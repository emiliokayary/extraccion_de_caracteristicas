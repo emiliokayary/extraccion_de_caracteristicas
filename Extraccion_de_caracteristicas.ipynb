{
  "nbformat": 4,
  "nbformat_minor": 0,
  "metadata": {
    "colab": {
      "provenance": [],
      "authorship_tag": "ABX9TyOYSRh5bw7EWfirj2+X79w0",
      "include_colab_link": true
    },
    "kernelspec": {
      "name": "python3",
      "display_name": "Python 3"
    },
    "language_info": {
      "name": "python"
    }
  },
  "cells": [
    {
      "cell_type": "markdown",
      "metadata": {
        "id": "view-in-github",
        "colab_type": "text"
      },
      "source": [
        "<a href=\"https://colab.research.google.com/github/emiliokayary/extraccion_de_caracteristicas/blob/main/Extraccion_de_caracteristicas.ipynb\" target=\"_parent\"><img src=\"https://colab.research.google.com/assets/colab-badge.svg\" alt=\"Open In Colab\"/></a>"
      ]
    },
    {
      "cell_type": "code",
      "execution_count": null,
      "metadata": {
        "id": "r_5r_YzL8Iwv"
      },
      "outputs": [],
      "source": [
        "#Instalamos librería para análisis de variables categóricas\n",
        "%pip install funpymodeling"
      ]
    },
    {
      "cell_type": "code",
      "source": [
        "#Importamos las librerias pandas, numpy y matplotlib respectivamente\n",
        "import pandas as pd\n",
        "import numpy as np\n",
        "import matplotlib.pyplot as plt\n",
        "from funpymodeling.exploratory import freq_tbl"
      ],
      "metadata": {
        "id": "0Q1ZHkIw8h0D"
      },
      "execution_count": 5,
      "outputs": []
    },
    {
      "cell_type": "code",
      "source": [
        "#Cargar archivo csv desde equipo\n",
        "from google.colab import files\n",
        "files.upload()"
      ],
      "metadata": {
        "id": "TOpJz0KY8nlL"
      },
      "execution_count": null,
      "outputs": []
    },
    {
      "cell_type": "code",
      "source": [
        "#Carga desde un archivo .xlsx sin indice\n",
        "Micro_Retailer= pd.read_excel('microretailer_mit_lift_lab.xlsx')"
      ],
      "metadata": {
        "id": "I6KglLqo8w-M"
      },
      "execution_count": 7,
      "outputs": []
    },
    {
      "cell_type": "code",
      "source": [
        "#Verificamos información del DataFrame\n",
        "Micro_Retailer.info()"
      ],
      "metadata": {
        "id": "sUEZ_9GB9RNX"
      },
      "execution_count": null,
      "outputs": []
    },
    {
      "cell_type": "code",
      "source": [
        "\n",
        "#Imprimo los primeros 5 registro del dataframe\n",
        "Micro_Retailer.head(2)"
      ],
      "metadata": {
        "id": "9za2XiL-9Upv"
      },
      "execution_count": null,
      "outputs": []
    },
    {
      "cell_type": "code",
      "source": [
        "\n",
        "#Obtengo un análisis univariado de las variables categóricas\n",
        "freq_tbl(Micro_Retailer)"
      ],
      "metadata": {
        "id": "t4XHSC6U9X9j"
      },
      "execution_count": null,
      "outputs": []
    },
    {
      "cell_type": "code",
      "source": [
        "#Filtro por columnas\n",
        "filtro1=Micro_Retailer.iloc[ : , [1,2,3,8,9,15,23,25,27,30,32,34,35,36,48,55,66,68,75,81]]\n",
        "filtro1"
      ],
      "metadata": {
        "id": "tvmJoQLS-OwU"
      },
      "execution_count": null,
      "outputs": []
    },
    {
      "cell_type": "code",
      "source": [
        "#Corroboramos valores nulos\n",
        "valores_nulos=filtro1.isnull().sum()\n",
        "valores_nulos"
      ],
      "metadata": {
        "id": "QDAHpEnz-s_x"
      },
      "execution_count": null,
      "outputs": []
    },
    {
      "cell_type": "code",
      "source": [
        "filtro1=filtro1.fillna(method=\"bfill\")"
      ],
      "metadata": {
        "id": "PYlmcoy-_Au4"
      },
      "execution_count": null,
      "outputs": []
    },
    {
      "cell_type": "code",
      "source": [
        "#Corroboramos valores nulos\n",
        "valores_nulos=filtro1.isnull().sum()\n",
        "valores_nulos"
      ],
      "metadata": {
        "id": "ox2nD42Z_I4l"
      },
      "execution_count": null,
      "outputs": []
    },
    {
      "cell_type": "code",
      "source": [
        "filtro1.info()\n",
        ""
      ],
      "metadata": {
        "id": "_h_m3Evd_SJC"
      },
      "execution_count": null,
      "outputs": []
    },
    {
      "cell_type": "code",
      "source": [
        "#Obtengo un análisis univariado de las variables categóricas\n",
        "freq_tbl(filtro1)\n",
        ""
      ],
      "metadata": {
        "id": "AszOy2Fk_XF0"
      },
      "execution_count": null,
      "outputs": []
    },
    {
      "cell_type": "code",
      "source": [
        "pd.options.display.max_columns = None\n",
        ""
      ],
      "metadata": {
        "id": "a09-Emb2_bTK"
      },
      "execution_count": 20,
      "outputs": []
    },
    {
      "cell_type": "code",
      "source": [
        "#Análisis univariado de una variable categórica en específico\n",
        "table1= freq_tbl(Micro_Retailer['_title'])\n",
        "table1\n",
        ""
      ],
      "metadata": {
        "id": "C7qYntUt_h9T"
      },
      "execution_count": null,
      "outputs": []
    },
    {
      "cell_type": "code",
      "source": [
        "#Filtro de los valores más reelevantes de la variables categórica seleccionada\n",
        "Filtro2= table1[table1['frequency']>1]\n",
        "Filtro2"
      ],
      "metadata": {
        "id": "ewMd5UVU_mG8"
      },
      "execution_count": null,
      "outputs": []
    },
    {
      "cell_type": "code",
      "source": [
        "#Ajusto el indice de mi dataframe\n",
        "Filtro_index1= Filtro2.set_index('_title')\n",
        "Filtro_index1"
      ],
      "metadata": {
        "id": "w7Ma65bCiTxg"
      },
      "execution_count": null,
      "outputs": []
    },
    {
      "cell_type": "code",
      "source": [
        "#Realizamos grafico de pastel del dataframe filtrado\n",
        "Filtro_index1[\"frequency\"].plot(kind='pie', figsize=(15,10), autopct=\"%0.1f %%\")"
      ],
      "metadata": {
        "id": "soiEp4vciXaU"
      },
      "execution_count": null,
      "outputs": []
    },
    {
      "cell_type": "code",
      "source": [
        "#Análisis univariado de una variable categórica en específico 1\n",
        "table1= freq_tbl(Micro_Retailer['_server_updated_at'])\n",
        "table1"
      ],
      "metadata": {
        "id": "Pem41Ukqiocd"
      },
      "execution_count": null,
      "outputs": []
    },
    {
      "cell_type": "code",
      "source": [
        "#Filtro de los valores más reelevantes de la variables categórica seleccionada\n",
        "Filtro2= table1[table1['frequency']>1]\n",
        "Filtro2"
      ],
      "metadata": {
        "id": "F9jC1UeAjLSb"
      },
      "execution_count": null,
      "outputs": []
    },
    {
      "cell_type": "code",
      "source": [
        "#Ajusto el indice de mi dataframe\n",
        "Filtro_index1= Filtro2.set_index('_server_updated_at')\n",
        "Filtro_index1"
      ],
      "metadata": {
        "id": "bf0SXHfcjQNw"
      },
      "execution_count": null,
      "outputs": []
    },
    {
      "cell_type": "code",
      "source": [
        "#Realizamos grafico de área del dataframe filtrado\n",
        "Filtro_index1.plot(kind='area', figsize=(20,16),alpha = 0.5)"
      ],
      "metadata": {
        "id": "VjgxpqXjjUJj"
      },
      "execution_count": null,
      "outputs": []
    },
    {
      "cell_type": "code",
      "source": [
        "#Análisis univariado de una variable categórica en específico 2\n",
        "table1= freq_tbl(Micro_Retailer['_updated_by'])\n",
        "table1"
      ],
      "metadata": {
        "id": "eWunHOGCjvyy"
      },
      "execution_count": null,
      "outputs": []
    },
    {
      "cell_type": "code",
      "source": [
        "#Obtengo un filtro de los valores más reelevantes de la variables categórica seleccionada\n",
        "Filtro2= table1[table1['frequency']>1]\n",
        "Filtro2"
      ],
      "metadata": {
        "id": "C40N2XcJj27U"
      },
      "execution_count": null,
      "outputs": []
    },
    {
      "cell_type": "code",
      "source": [
        "#Ajusto el indice de mi dataframe\n",
        "Filtro_index1= Filtro2.set_index('_updated_by')\n",
        "Filtro_index1"
      ],
      "metadata": {
        "id": "h1tgzTJ-j7Ke"
      },
      "execution_count": null,
      "outputs": []
    },
    {
      "cell_type": "code",
      "source": [
        "#Realizamos grafico de dispersión del dataframe filtrado\n",
        "Filtro_index1.plot(\"frequency\", \"cumulative_perc\", kind=\"scatter\")"
      ],
      "metadata": {
        "id": "hj9XtWklj_Pk"
      },
      "execution_count": null,
      "outputs": []
    },
    {
      "cell_type": "code",
      "source": [
        "#Obtengo un análisis univariado de una variable categórica en específico 3\n",
        "table1= freq_tbl(Micro_Retailer['214_customer_relationship_tools'])\n",
        "table1"
      ],
      "metadata": {
        "id": "kTo9vxT6kI9b"
      },
      "execution_count": null,
      "outputs": []
    },
    {
      "cell_type": "code",
      "source": [
        "#Obtengo un filtro de los valores más reelevantes de la variables categórica seleccionada\n",
        "Filtro= table1[table1['frequency']>1]\n",
        "Filtro"
      ],
      "metadata": {
        "id": "K2c1QuM5kRJM"
      },
      "execution_count": null,
      "outputs": []
    },
    {
      "cell_type": "code",
      "source": [
        "#Ajusto el indice de mi dataframe\n",
        "Filtro_index= Filtro.set_index('214_customer_relationship_tools')\n",
        "Filtro_index"
      ],
      "metadata": {
        "id": "f8fvJNsrkVDm"
      },
      "execution_count": null,
      "outputs": []
    },
    {
      "cell_type": "code",
      "source": [
        "#Realizamos grafico de pastel del dataframe filtrado\n",
        "Filtro_index[\"frequency\"].plot(kind='pie', figsize=(10,5), shadow=True, autopct=\"%0.1f %%\")"
      ],
      "metadata": {
        "id": "dsdwew_wkZYO"
      },
      "execution_count": null,
      "outputs": []
    },
    {
      "cell_type": "code",
      "source": [
        "#Obtengo un análisis univariado de una variable categórica en específico 4\n",
        "table1= freq_tbl(Micro_Retailer['229_store_picture'])\n",
        "table1\n",
        "#Obtengo un filtro de los valores más relevantes de la variables categórica seleccionada\n",
        "Filtro1= table1[table1['frequency']>1]\n",
        "Filtro1\n",
        "#Ajusto el indice de mi dataframe\n",
        "Filtro_index1= Filtro1.set_index('229_store_picture')\n",
        "Filtro_index1\n",
        "#Realizamos grafico de pastel del dataframe filtrado\n",
        "Filtro_index1[\"frequency\"].plot(kind='pie', figsize=(10,5), autopct=\"%0.1f %%\")"
      ],
      "metadata": {
        "id": "0VZIfIAykk5k"
      },
      "execution_count": null,
      "outputs": []
    },
    {
      "cell_type": "code",
      "source": [
        "#Obtengo un análisis univariado de una variable categórica en específico 5\n",
        "table1= freq_tbl(Micro_Retailer['232_type_of_store'])\n",
        "table1\n",
        "#Obtengo un filtro de los valores más reelevantes de la variables categórica seleccionada\n",
        "Filtro1= table1[table1['frequency']>1]\n",
        "Filtro1\n",
        "#Ajusto el indice de mi dataframe\n",
        "Filtro_index1= Filtro1.set_index('232_type_of_store')\n",
        "Filtro_index1\n",
        "\n",
        "#Realizamos grafico de pastel del dataframe filtrado\n",
        "Filtro_index[\"frequency\"].plot(kind='pie', figsize=(10,5), shadow=True, autopct=\"%0.1f %%\")"
      ],
      "metadata": {
        "id": "BToDtBF4mN4i"
      },
      "execution_count": null,
      "outputs": []
    },
    {
      "cell_type": "code",
      "source": [
        "#Obtengo un análisis univariado de una variable categórica en específico 6\n",
        "table1= freq_tbl(Micro_Retailer['5_change_store_space_last_year'])\n",
        "table1\n",
        "#Obtengo un filtro de los valores más reelevantes de la variables categórica seleccionada\n",
        "Filtro1= table1[table1['frequency']>1]\n",
        "Filtro1\n",
        "#Ajusto el indice de mi dataframe\n",
        "Filtro_index1= Filtro1.set_index('5_change_store_space_last_year')\n",
        "Filtro_index1\n",
        "#Realizamos grafico de pastel del dataframe filtrado\n",
        "Filtro_index1[\"frequency\"].plot(kind='pie', figsize=(10,5), shadow=True, autopct=\"%0.1f %%\")"
      ],
      "metadata": {
        "id": "1qkXdOOBmooM"
      },
      "execution_count": null,
      "outputs": []
    },
    {
      "cell_type": "code",
      "source": [
        "#Obtengo un análisis univariado de una variable categórica en específico 7\n",
        "table1= freq_tbl(Micro_Retailer['184_store_devices'])\n",
        "table1\n",
        "#Obtengo un filtro de los valores más reelevantes de la variables categórica seleccionada\n",
        "Filtro1= table1[table1['frequency']>1]\n",
        "Filtro1\n",
        "#Ajusto el indice de mi dataframe\n",
        "Filtro_index1= Filtro1.set_index('184_store_devices')\n",
        "Filtro_index1\n",
        "#Realizamos grafico de área del dataframe filtrado\n",
        "Filtro_index.plot(kind='area', figsize=(10,4),alpha = 0.5)"
      ],
      "metadata": {
        "id": "gn172njgmw1E"
      },
      "execution_count": null,
      "outputs": []
    },
    {
      "cell_type": "code",
      "source": [
        "#Obtengo un análisis univariado de una variable categórica en específico 8\n",
        "table1= freq_tbl(Micro_Retailer['278_credit_interest'])\n",
        "table1\n",
        "#Obtengo un filtro de los valores más reelevantes de la variables categórica seleccionada\n",
        "Filtro1= table1[table1['frequency']>1]\n",
        "Filtro1\n",
        "#Ajusto el indice de mi dataframe\n",
        "Filtro_index1= Filtro1.set_index('278_credit_interest')\n",
        "Filtro_index1\n",
        "#Realizamos grafico de pastel del dataframe filtrado\n",
        "Filtro_index1[\"frequency\"].plot(kind='pie', figsize=(10,5), shadow=True, autopct=\"%0.1f %%\")"
      ],
      "metadata": {
        "id": "_5AkEjY-m7nc"
      },
      "execution_count": null,
      "outputs": []
    },
    {
      "cell_type": "code",
      "source": [
        "#Obtengo un análisis univariado de una variable categórica en específico 9\n",
        "table1= freq_tbl(Micro_Retailer['43_willingness_share_sales_data_suppliers'])\n",
        "table1\n",
        "#Obtengo un filtro de los valores más reelevantes de la variables categórica seleccionada\n",
        "Filtro1= table1[table1['frequency']>1]\n",
        "Filtro1\n",
        "#Ajusto el indice de mi dataframe\n",
        "Filtro_index1= Filtro1.set_index('43_willingness_share_sales_data_suppliers')\n",
        "Filtro_index1\n",
        "#Realizamos grafico de pastel del dataframe filtrado\n",
        "Filtro_index1[\"frequency\"].plot(kind='pie', figsize=(10,5), shadow=True, autopct=\"%0.1f %%\")"
      ],
      "metadata": {
        "id": "GM4YxW8am-G0"
      },
      "execution_count": null,
      "outputs": []
    },
    {
      "cell_type": "code",
      "source": [
        "#Obtengo un análisis univariado de una variable categórica en específico 10\n",
        "table1= freq_tbl(Micro_Retailer['313_home_deliveries'])\n",
        "table1\n",
        "#Obtengo un filtro de los valores más reelevantes de la variables categórica seleccionada\n",
        "Filtro1= table1[table1['frequency']>1]\n",
        "Filtro1\n",
        "#Ajusto el indice de mi dataframe\n",
        "Filtro_index1= Filtro1.set_index('313_home_deliveries')\n",
        "Filtro_index1\n",
        "#Realizamos grafico de pastel del dataframe filtrado\n",
        "Filtro_index1[\"frequency\"].plot(kind='pie', figsize=(10,5), shadow=True, autopct=\"%0.1f %%\")"
      ],
      "metadata": {
        "id": "YDZogr4rnBN0"
      },
      "execution_count": null,
      "outputs": []
    },
    {
      "cell_type": "code",
      "source": [
        "#Obtengo un análisis univariado de una variable categórica en específico 11\n",
        "table1= freq_tbl(Micro_Retailer['311_topups'])\n",
        "table1\n",
        "#Obtengo un filtro de los valores más reelevantes de la variables categórica seleccionada\n",
        "Filtro1= table1[table1['frequency']>1]\n",
        "Filtro1\n",
        "#Ajusto el indice de mi dataframe\n",
        "Filtro_index1= Filtro1.set_index('311_topups')\n",
        "Filtro_index1\n",
        "#Realizamos grafico de pastel del dataframe filtrado\n",
        "Filtro_index1[\"frequency\"].plot(kind='pie', figsize=(10,5), shadow=True, autopct=\"%0.1f %%\")"
      ],
      "metadata": {
        "id": "M7Rw-DU6nEJ3"
      },
      "execution_count": null,
      "outputs": []
    },
    {
      "cell_type": "code",
      "source": [
        "#Obtengo un análisis univariado de una variable categórica en específico 12\n",
        "table1= freq_tbl(Micro_Retailer[\"60_services\"])\n",
        "table1\n",
        "#Obtengo un filtro de los valores más reelevantes de la variables categórica seleccionada\n",
        "Filtro1= table1[table1['frequency']>1]\n",
        "Filtro1\n",
        "#Ajusto el indice de mi dataframe\n",
        "Filtro_index1= Filtro1.set_index('60_services')\n",
        "Filtro_index1\n",
        "#Realizamos grafico de barras del dataframe filtrado\n",
        "Filtro_index1.plot(kind = 'bar', width=1, figsize=(10,4))\n",
        "plt.title('Herramientas de relación con los clientes')\n",
        "plt.xlabel('Tipo de Herramienta')\n",
        "plt.ylabel('Frecuencia')"
      ],
      "metadata": {
        "id": "EcwqpfAFnHFf"
      },
      "execution_count": null,
      "outputs": []
    },
    {
      "cell_type": "code",
      "source": [
        "#Obtengo un análisis univariado de una variable categórica en específico 13\n",
        "table1= freq_tbl(Micro_Retailer['33_credit_to_customers'])\n",
        "table1\n",
        "#Obtengo un filtro de los valores más reelevantes de la variables categórica seleccionada\n",
        "Filtro1= table1[table1['frequency']>1]\n",
        "Filtro1\n",
        "#Ajusto el indice de mi dataframe\n",
        "Filtro_index1= Filtro1.set_index('33_credit_to_customers')\n",
        "Filtro_index1\n",
        "\n",
        "#Realizamos grafico de área del dataframe filtrado\n",
        "Filtro_index1.plot(kind='area', figsize=(10,4),alpha = 0.5)"
      ],
      "metadata": {
        "id": "HrvD6v7onOjG"
      },
      "execution_count": null,
      "outputs": []
    },
    {
      "cell_type": "code",
      "source": [
        "#Obtengo un análisis univariado de una variable categórica en específico 14\n",
        "table1= freq_tbl(Micro_Retailer['189_payment_methods'])\n",
        "table1\n",
        "#Obtengo un filtro de los valores más reelevantes de la variables categórica seleccionada\n",
        "Filtro1= table1[table1['frequency']>1]\n",
        "Filtro1\n",
        "#Ajusto el indice de mi dataframe\n",
        "Filtro_index1= Filtro1.set_index('189_payment_methods')\n",
        "Filtro_index1\n",
        "#Realizamos grafico de pastel del dataframe filtrado\n",
        "Filtro_index1[\"frequency\"].plot(kind='pie', figsize=(10,5), shadow=True, autopct=\"%0.1f %%\")"
      ],
      "metadata": {
        "id": "qmOrn44cndaL"
      },
      "execution_count": null,
      "outputs": []
    },
    {
      "cell_type": "code",
      "source": [
        "#Obtengo un análisis univariado de una variable categórica en específico 15\n",
        "table1= freq_tbl(Micro_Retailer['210_sales_channels'])\n",
        "table1\n",
        "#Obtengo un filtro de los valores más reelevantes de la variables categórica seleccionada\n",
        "Filtro1= table1[table1['frequency']>1]\n",
        "Filtro1\n",
        "#Ajusto el indice de mi dataframe\n",
        "Filtro_index1= Filtro1.set_index('210_sales_channels')\n",
        "Filtro_index1\n",
        "#Realizamos grafico de barras del dataframe filtrado\n",
        "Filtro_index1.plot(kind = 'bar', width=1, figsize=(20,10))\n",
        "plt.title('Herramientas de relación con los clientes')\n",
        "plt.xlabel('Tipo de Herramienta')\n",
        "plt.ylabel('Frecuencia')\n",
        ""
      ],
      "metadata": {
        "id": "feqes18rnl9f"
      },
      "execution_count": null,
      "outputs": []
    },
    {
      "cell_type": "code",
      "source": [
        "#Obtengo un análisis univariado de una variable categórica en específico 16\n",
        "table1= freq_tbl(Micro_Retailer['186_internet_connection'])\n",
        "table1\n",
        "#Obtengo un filtro de los valores más reelevantes de la variables categórica seleccionada\n",
        "Filtro1= table1[table1['frequency']>1]\n",
        "Filtro1\n",
        "#Ajusto el indice de mi dataframe\n",
        "Filtro_index1= Filtro1.set_index('186_internet_connection')\n",
        "Filtro_index1\n",
        "#Realizamos grafico de pastel del dataframe filtrado\n",
        "Filtro_index[\"frequency\"].plot(kind='pie', figsize=(10,5), shadow=True, autopct=\"%0.1f %%\")"
      ],
      "metadata": {
        "id": "ZrfulSoCoY7E"
      },
      "execution_count": null,
      "outputs": []
    },
    {
      "cell_type": "code",
      "source": [
        "#Obtengo un análisis univariado de una variable categórica en específico 17\n",
        "table1= freq_tbl(Micro_Retailer['310_burnout'])\n",
        "table1\n",
        "#Obtengo un filtro de los valores más reelevantes de la variables categórica seleccionada\n",
        "Filtro1= table1[table1['frequency']>1]\n",
        "Filtro1\n",
        "#Ajusto el indice de mi dataframe\n",
        "Filtro_index1= Filtro1.set_index('310_burnout')\n",
        "Filtro_index1\n",
        "#Realizamos grafico de pastel del dataframe filtrado\n",
        "Filtro_index1[\"frequency\"].plot(kind='pie', figsize=(10,5), shadow=True, autopct=\"%0.1f %%\")"
      ],
      "metadata": {
        "id": "yzoPUq7-omtt"
      },
      "execution_count": null,
      "outputs": []
    },
    {
      "cell_type": "code",
      "source": [
        "#Obtengo un análisis univariado de una variable categórica en específico 18\n",
        "table1= freq_tbl(Micro_Retailer['19_tax_id'])\n",
        "table1\n",
        "#Obtengo un filtro de los valores más reelevantes de la variables categórica seleccionada\n",
        "Filtro1= table1[table1['frequency']>1]\n",
        "Filtro1\n",
        "#Ajusto el indice de mi dataframe\n",
        "Filtro_index1= Filtro1.set_index('19_tax_id')\n",
        "Filtro_index1\n",
        "#Realizamos grafico de pastel del dataframe filtrado\n",
        "Filtro_index1[\"frequency\"].plot(kind='pie', figsize=(10,5), shadow=True, autopct=\"%0.1f %%\")"
      ],
      "metadata": {
        "id": "6MUvlCCrorRz"
      },
      "execution_count": null,
      "outputs": []
    },
    {
      "cell_type": "code",
      "source": [
        "#Obtengo un análisis univariado de una variable categórica en específico 19\n",
        "table1= freq_tbl(Micro_Retailer['18_sales_records'])\n",
        "table1\n",
        "#Obtengo un filtro de los valores más reelevantes de la variables categórica seleccionada\n",
        "Filtro1= table1[table1['frequency']>1]\n",
        "Filtro1\n",
        "#Ajusto el indice de mi dataframe\n",
        "Filtro_index1= Filtro1.set_index('18_sales_records')\n",
        "Filtro_index1\n",
        "#Realizamos grafico de área del dataframe filtrado\n",
        "Filtro_index1.plot(kind='area', figsize=(10,4),alpha = 0.5)"
      ],
      "metadata": {
        "id": "-IFCRlchovgY"
      },
      "execution_count": null,
      "outputs": []
    },
    {
      "cell_type": "code",
      "source": [
        "#Obtengo un análisis univariado de una variable categórica en específico 20\n",
        "table1= freq_tbl(Micro_Retailer['20_reviews_finances_monthly'])\n",
        "table1\n",
        "#Obtengo un filtro de los valores más reelevantes de la variables categórica seleccionada\n",
        "Filtro1= table1[table1['frequency']>1]\n",
        "Filtro1\n",
        "#Ajusto el indice de mi dataframe\n",
        "Filtro_index1= Filtro1.set_index('20_reviews_finances_monthly')\n",
        "Filtro_index1\n",
        "#Realizamos grafico de pastel del dataframe filtrado\n",
        "Filtro_index1[\"frequency\"].plot(kind='pie', figsize=(10,5), shadow=True, autopct=\"%0.1f %%\")"
      ],
      "metadata": {
        "id": "xSDspy7TpAz-"
      },
      "execution_count": null,
      "outputs": []
    }
  ]
}